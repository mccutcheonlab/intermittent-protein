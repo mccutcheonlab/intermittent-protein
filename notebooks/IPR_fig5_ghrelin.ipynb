{
 "cells": [
  {
   "cell_type": "code",
   "execution_count": 2,
   "metadata": {},
   "outputs": [],
   "source": [
    "from pathlib import Path\n",
    "import pandas as pd\n",
    "import trompy as tp\n",
    "import numpy as np\n",
    "import matplotlib.pyplot as plt\n",
    "import pandas as pd\n",
    "import scipy.stats as stats\n",
    "\n",
    "%matplotlib inline"
   ]
  },
  {
   "cell_type": "code",
   "execution_count": 3,
   "metadata": {},
   "outputs": [],
   "source": [
    "DATAFOLDER = Path(\"../data\")\n",
    "FIGSFOLDER = Path(\"../figures\")"
   ]
  },
  {
   "cell_type": "code",
   "execution_count": 4,
   "metadata": {},
   "outputs": [
    {
     "name": "stdout",
     "output_type": "stream",
     "text": [
      "       ID   sex group   condition  ghrelin_pg_per_ml\n",
      "0  MPX322  male   IPR  dark_onset            516.070\n",
      "1  MPX327  male   IPR  dark_onset            481.401\n",
      "2  MPX328  male   IPR  dark_onset            297.777\n",
      "3  MPX333  male   IPR  dark_onset            733.612\n",
      "4  MPX334  male   IPR  dark_onset            258.308\n"
     ]
    }
   ],
   "source": [
    "df = pd.read_csv(DATAFOLDER / 'fig_5_ghrelin.csv')\n",
    "\n",
    "print(df.head())"
   ]
  },
  {
   "cell_type": "code",
   "execution_count": 8,
   "metadata": {},
   "outputs": [
    {
     "name": "stdout",
     "output_type": "stream",
     "text": [
      "('IPR', 'dark_onset'): [516.07, 481.401, 297.777, 733.612, 258.308, 547.135, 455.29699999999997]\n",
      "('IPR', 'light_onset'): [362.542, 831.4730000000001, 335.73199999999997, 276.45799999999997, 403.296, 776.362, 372.79900000000004]\n",
      "('NR', 'dark_onset'): [193.333, 493.541, 360.884, 285.399, 272.857, 452.19699999999995]\n",
      "('NR', 'light_onset'): [160.429, 222.701, 151.89, 334.036, 441.29699999999997, 130.735, 277.466]\n",
      "('PR', 'dark_onset'): [296.019, 322.087, 495.05199999999996, 1113.934, 631.826, 535.363, 775.0360000000001]\n",
      "('PR', 'light_onset'): [535.363, 458.39099999999996, 796.169, 529.4490000000001, 684.6419999999999, 433.463, 464.897]\n"
     ]
    }
   ],
   "source": [
    "\n",
    "# Initialize a dictionary to store the lists\n",
    "group_condition_lists = {}\n",
    "\n",
    "# Group by 'group' and 'condition'\n",
    "grouped = df.groupby(['group', 'condition'])\n",
    "\n",
    "# Loop through each group and condition, storing the list of values in the dictionary\n",
    "for (group, condition), group_df in grouped:\n",
    "    group_condition_lists[(group, condition)] = group_df['ghrelin_pg_per_ml'].tolist()\n",
    "\n",
    "#removing value for MPX325, NR dark_onset\n",
    "outlier_value = 1173.375\n",
    "ipr_dark_onset_list = group_condition_lists[('NR', 'dark_onset')]\n",
    "\n",
    "if outlier_value in ipr_dark_onset_list:\n",
    "    ipr_dark_onset_list.remove(outlier_value)\n",
    "    \n",
    "# Print the dictionary for verification\n",
    "for key, value in group_condition_lists.items():\n",
    "    print(f\"{key}: {value}\")\n"
   ]
  },
  {
   "cell_type": "code",
   "execution_count": 6,
   "metadata": {},
   "outputs": [],
   "source": [
    "colors = {'NR': [\"#FF7F0E\", \"#ffb370\"],\n",
    "          'PR': [\"#9467BD\", \"#c4abdb\"],\n",
    "          'IPR': [\"#17BECF\", \"#90eaf3\"]}\n",
    "\n",
    "group_labels = [\"NR\", \"PR\", \"IPR\"]\n",
    "scattersize=50\n"
   ]
  },
  {
   "cell_type": "code",
   "execution_count": 10,
   "metadata": {},
   "outputs": [
    {
     "data": {
      "image/png": "[encoded data removed]",
      "text/plain": [
       "<Figure size 216x216 with 1 Axes>"
      ]
     },
     "metadata": {
      "needs_background": "light"
     },
     "output_type": "display_data"
    }
   ],
   "source": [
    "#ghrelin\n",
    "\n",
    "f,ax=plt.subplots(figsize=(3,3), ncols=1, gridspec_kw={\"left\": 0.3})\n",
    "\n",
    "tp.barscatter(\n",
    "        [[group_condition_lists[('NR', 'light_onset')], group_condition_lists[('NR', 'dark_onset')]], \n",
    "         [group_condition_lists[('PR', 'light_onset')], group_condition_lists[('PR', 'dark_onset')]],\n",
    "         [group_condition_lists[('IPR', 'light_onset')], group_condition_lists[('IPR', 'dark_onset')]]],\n",
    "        barfacecolor_option='individual',\n",
    "        barfacecolor=[color for group in group_labels for color in colors[group]],\n",
    "        scattersize=scattersize,\n",
    "        grouplabel=group_labels,\n",
    "        scatteralpha=0.6,\n",
    "        ax=ax)\n",
    "\n",
    "\n",
    "ax.set_ylabel(\"ghrelin (pg/ml)\", fontsize = 12)\n",
    "\n",
    "ax.tick_params(axis='both', which='major', labelsize=12)\n",
    "\n",
    "ax.tick_params(axis='y', labelsize=12)\n",
    "    \n",
    "f.savefig(FIGSFOLDER / \"ghrelin.pdf\")    "
   ]
  },
  {
   "cell_type": "code",
   "execution_count": null,
   "metadata": {},
   "outputs": [],
   "source": []
  },
  {
   "cell_type": "code",
   "execution_count": null,
   "metadata": {},
   "outputs": [],
   "source": []
  },
  {
   "cell_type": "code",
   "execution_count": null,
   "metadata": {},
   "outputs": [],
   "source": []
  }
 ],
 "metadata": {
  "kernelspec": {
   "display_name": "Python 3",
   "language": "python",
   "name": "python3"
  },
  "language_info": {
   "codemirror_mode": {
    "name": "ipython",
    "version": 3
   },
   "file_extension": ".py",
   "mimetype": "text/x-python",
   "name": "python",
   "nbconvert_exporter": "python",
   "pygments_lexer": "ipython3",
   "version": "3.8.5"
  }
 },
 "nbformat": 4,
 "nbformat_minor": 4
}
