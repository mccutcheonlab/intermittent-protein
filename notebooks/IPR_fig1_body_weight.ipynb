{
 "cells": [
  {
   "cell_type": "code",
   "execution_count": 1,
   "metadata": {},
   "outputs": [],
   "source": [
    "from pathlib import Path\n",
    "import pandas as pd\n",
    "import trompy as tp\n",
    "import numpy as np\n",
    "import matplotlib.pyplot as plt\n",
    "import pandas as pd\n",
    "import scipy.stats as stats\n",
    "\n",
    "%matplotlib inline"
   ]
  },
  {
   "cell_type": "code",
   "execution_count": 2,
   "metadata": {},
   "outputs": [],
   "source": [
    "DATAFOLDER = Path(\"../data\")\n",
    "FIGSFOLDER = Path(\"../figures\")"
   ]
  },
  {
   "cell_type": "code",
   "execution_count": 3,
   "metadata": {},
   "outputs": [],
   "source": [
    "df = pd.read_csv(DATAFOLDER / 'fig_1_body_weight.csv')"
   ]
  },
  {
   "cell_type": "code",
   "execution_count": 4,
   "metadata": {},
   "outputs": [
    {
     "ename": "NameError",
     "evalue": "name 'df_mean' is not defined",
     "output_type": "error",
     "traceback": [
      "\u001b[1;31m---------------------------------------------------------------------------\u001b[0m",
      "\u001b[1;31mNameError\u001b[0m                                 Traceback (most recent call last)",
      "Cell \u001b[1;32mIn[4], line 16\u001b[0m\n\u001b[0;32m     10\u001b[0m df_stats \u001b[38;5;241m=\u001b[39m df_long\u001b[38;5;241m.\u001b[39mgroupby([\u001b[38;5;124m'\u001b[39m\u001b[38;5;124msex\u001b[39m\u001b[38;5;124m'\u001b[39m, \u001b[38;5;124m'\u001b[39m\u001b[38;5;124mgroup\u001b[39m\u001b[38;5;124m'\u001b[39m, \u001b[38;5;124m'\u001b[39m\u001b[38;5;124mweek\u001b[39m\u001b[38;5;124m'\u001b[39m])\u001b[38;5;241m.\u001b[39magg(\n\u001b[0;32m     11\u001b[0m     mean_body_weight\u001b[38;5;241m=\u001b[39m(\u001b[38;5;124m'\u001b[39m\u001b[38;5;124mbody_weight\u001b[39m\u001b[38;5;124m'\u001b[39m, \u001b[38;5;124m'\u001b[39m\u001b[38;5;124mmean\u001b[39m\u001b[38;5;124m'\u001b[39m),\n\u001b[0;32m     12\u001b[0m     sem_body_weight\u001b[38;5;241m=\u001b[39m(\u001b[38;5;124m'\u001b[39m\u001b[38;5;124mbody_weight\u001b[39m\u001b[38;5;124m'\u001b[39m, \u001b[38;5;28;01mlambda\u001b[39;00m x: np\u001b[38;5;241m.\u001b[39mstd(x, ddof\u001b[38;5;241m=\u001b[39m\u001b[38;5;241m1\u001b[39m) \u001b[38;5;241m/\u001b[39m np\u001b[38;5;241m.\u001b[39msqrt(\u001b[38;5;28mlen\u001b[39m(x)))\n\u001b[0;32m     13\u001b[0m )\u001b[38;5;241m.\u001b[39mreset_index()\n\u001b[0;32m     15\u001b[0m \u001b[38;5;66;03m#filter by sex\u001b[39;00m\n\u001b[1;32m---> 16\u001b[0m df_male_stats \u001b[38;5;241m=\u001b[39m df_stats[\u001b[43mdf_mean\u001b[49m[\u001b[38;5;124m'\u001b[39m\u001b[38;5;124msex\u001b[39m\u001b[38;5;124m'\u001b[39m] \u001b[38;5;241m==\u001b[39m \u001b[38;5;124m'\u001b[39m\u001b[38;5;124mmale\u001b[39m\u001b[38;5;124m'\u001b[39m]\n\u001b[0;32m     17\u001b[0m df_female_stats \u001b[38;5;241m=\u001b[39m df_stats[df_mean[\u001b[38;5;124m'\u001b[39m\u001b[38;5;124msex\u001b[39m\u001b[38;5;124m'\u001b[39m] \u001b[38;5;241m==\u001b[39m \u001b[38;5;124m'\u001b[39m\u001b[38;5;124mfemale\u001b[39m\u001b[38;5;124m'\u001b[39m]\n",
      "\u001b[1;31mNameError\u001b[0m: name 'df_mean' is not defined"
     ]
    }
   ],
   "source": [
    "# Melt the DataFrame to long format\n",
    "df_long = df.melt(id_vars=['ID', 'sex', 'group'], \n",
    "                  value_vars=['week_0', 'week_1', 'week_2', 'week_3', 'week_4', 'week_5', 'week_6', 'week_7', 'week_8'],\n",
    "                  var_name='week', \n",
    "                  value_name='body_weight')\n",
    "\n",
    "# Convert 'week' to a numeric value for easier plotting\n",
    "df_long['week'] = df_long['week'].str.extract('(\\d+)').astype(int)\n",
    "\n",
    "df_stats = df_long.groupby(['sex', 'group', 'week']).agg(\n",
    "    mean_body_weight=('body_weight', 'mean'),\n",
    "    sem_body_weight=('body_weight', lambda x: np.std(x, ddof=1) / np.sqrt(len(x)))\n",
    ").reset_index()\n",
    "\n",
    "#filter by sex\n",
    "df_male_stats = df_stats[df_mean['sex'] == 'male']\n",
    "df_female_stats = df_stats[df_mean['sex'] == 'female']"
   ]
  },
  {
   "cell_type": "code",
   "execution_count": 5,
   "metadata": {},
   "outputs": [
    {
     "ename": "NameError",
     "evalue": "name 'df_male_stats' is not defined",
     "output_type": "error",
     "traceback": [
      "\u001b[1;31m---------------------------------------------------------------------------\u001b[0m",
      "\u001b[1;31mNameError\u001b[0m                                 Traceback (most recent call last)",
      "Cell \u001b[1;32mIn[5], line 12\u001b[0m\n\u001b[0;32m      5\u001b[0m markers \u001b[38;5;241m=\u001b[39m {\u001b[38;5;124m'\u001b[39m\u001b[38;5;124mNR\u001b[39m\u001b[38;5;124m'\u001b[39m: \u001b[38;5;124m\"\u001b[39m\u001b[38;5;124mo\u001b[39m\u001b[38;5;124m\"\u001b[39m,\n\u001b[0;32m      6\u001b[0m           \u001b[38;5;124m'\u001b[39m\u001b[38;5;124mPR\u001b[39m\u001b[38;5;124m'\u001b[39m: \u001b[38;5;124m\"\u001b[39m\u001b[38;5;124mD\u001b[39m\u001b[38;5;124m\"\u001b[39m,\n\u001b[0;32m      7\u001b[0m           \u001b[38;5;124m'\u001b[39m\u001b[38;5;124mIPR\u001b[39m\u001b[38;5;124m'\u001b[39m: \u001b[38;5;124m\"\u001b[39m\u001b[38;5;124mv\u001b[39m\u001b[38;5;124m\"\u001b[39m}\n\u001b[0;32m     10\u001b[0m f,ax\u001b[38;5;241m=\u001b[39mplt\u001b[38;5;241m.\u001b[39msubplots(figsize\u001b[38;5;241m=\u001b[39m(\u001b[38;5;241m6\u001b[39m, \u001b[38;5;241m3\u001b[39m),ncols\u001b[38;5;241m=\u001b[39m\u001b[38;5;241m2\u001b[39m, sharey\u001b[38;5;241m=\u001b[39m\u001b[38;5;28;01mTrue\u001b[39;00m, gridspec_kw\u001b[38;5;241m=\u001b[39m{\u001b[38;5;124m\"\u001b[39m\u001b[38;5;124mbottom\u001b[39m\u001b[38;5;124m\"\u001b[39m: \u001b[38;5;241m0.2\u001b[39m})\n\u001b[1;32m---> 12\u001b[0m \u001b[38;5;28;01mfor\u001b[39;00m group \u001b[38;5;129;01min\u001b[39;00m \u001b[43mdf_male_stats\u001b[49m[\u001b[38;5;124m'\u001b[39m\u001b[38;5;124mgroup\u001b[39m\u001b[38;5;124m'\u001b[39m]\u001b[38;5;241m.\u001b[39munique():\n\u001b[0;32m     13\u001b[0m     subset \u001b[38;5;241m=\u001b[39m df_male_stats[df_male_stats[\u001b[38;5;124m'\u001b[39m\u001b[38;5;124mgroup\u001b[39m\u001b[38;5;124m'\u001b[39m] \u001b[38;5;241m==\u001b[39m group]\n\u001b[0;32m     14\u001b[0m     ax[\u001b[38;5;241m0\u001b[39m]\u001b[38;5;241m.\u001b[39merrorbar(subset[\u001b[38;5;124m'\u001b[39m\u001b[38;5;124mweek\u001b[39m\u001b[38;5;124m'\u001b[39m], subset[\u001b[38;5;124m'\u001b[39m\u001b[38;5;124mmean_body_weight\u001b[39m\u001b[38;5;124m'\u001b[39m], yerr\u001b[38;5;241m=\u001b[39msubset[\u001b[38;5;124m'\u001b[39m\u001b[38;5;124msem_body_weight\u001b[39m\u001b[38;5;124m'\u001b[39m],\n\u001b[0;32m     15\u001b[0m                  label\u001b[38;5;241m=\u001b[39mgroup, color\u001b[38;5;241m=\u001b[39mcolors[group], marker\u001b[38;5;241m=\u001b[39mmarkers[group])\n",
      "\u001b[1;31mNameError\u001b[0m: name 'df_male_stats' is not defined"
     ]
    },
    {
     "data": {
      "image/png": "[encoded data removed]",
      "text/plain": [
       "<Figure size 600x300 with 2 Axes>"
      ]
     },
     "metadata": {},
     "output_type": "display_data"
    }
   ],
   "source": [
    "colors = {'NR': \"#FF7F0E\",\n",
    "          'PR': \"#9467BD\",\n",
    "          'IPR': \"#17BECF\"}\n",
    "\n",
    "markers = {'NR': \"o\",\n",
    "          'PR': \"D\",\n",
    "          'IPR': \"v\"}\n",
    "\n",
    "\n",
    "f,ax=plt.subplots(figsize=(6, 3),ncols=2, sharey=True, gridspec_kw={\"bottom\": 0.2})\n",
    "\n",
    "for group in df_male_stats['group'].unique():\n",
    "    subset = df_male_stats[df_male_stats['group'] == group]\n",
    "    ax[0].errorbar(subset['week'], subset['mean_body_weight'], yerr=subset['sem_body_weight'],\n",
    "                 label=group, color=colors[group], marker=markers[group])\n",
    "\n",
    "for group in df_female_stats['group'].unique():\n",
    "    subset = df_female_stats[df_female_stats['group'] == group]\n",
    "    ax[1].errorbar(subset['week'], subset['mean_body_weight'], yerr=subset['sem_body_weight'],\n",
    "                 label=group, color=colors[group], marker=markers[group])\n",
    "    \n",
    "\n",
    "#grey for weeks when IPR is on NR diet    \n",
    "x_ranges = [(-0.5, 0.5), (1.5, 2.5), (3.5, 4.5), (5.5, 6.5), (7.5, 8.5)]\n",
    "\n",
    "for subplot in ax:\n",
    "    for start, end in x_ranges:\n",
    "        subplot.axvspan(start, end, color='#ededed')\n",
    "\n",
    "        \n",
    "ax[0].set_ylim(19,36)\n",
    "\n",
    "ax[0].set_ylabel(\"body weight (g)\", fontsize = 12)\n",
    "\n",
    "for ax in [ax[0],ax[1]]:\n",
    "    ax.spines['top'].set_visible(False)\n",
    "    ax.spines['right'].set_visible(False)\n",
    "    ax.tick_params(axis='both', which='major', labelsize=12)\n",
    "    ax.set_xlabel('time (weeks)', fontsize = 12)\n",
    "    ax.set_xticks([0,1,2,3,4,5,6,7,8]) \n",
    "\n",
    "    \n",
    "f.savefig(FIGSFOLDER / \"BW_v02.pdf\")    \n"
   ]
  },
  {
   "cell_type": "code",
   "execution_count": null,
   "metadata": {},
   "outputs": [],
   "source": []
  },
  {
   "cell_type": "code",
   "execution_count": null,
   "metadata": {},
   "outputs": [],
   "source": []
  }
 ],
 "metadata": {
  "kernelspec": {
   "display_name": "Python 3",
   "language": "python",
   "name": "python3"
  },
  "language_info": {
   "codemirror_mode": {
    "name": "ipython",
    "version": 3
   },
   "file_extension": ".py",
   "mimetype": "text/x-python",
   "name": "python",
   "nbconvert_exporter": "python",
   "pygments_lexer": "ipython3",
   "version": "3.9.16"
  }
 },
 "nbformat": 4,
 "nbformat_minor": 4
}
