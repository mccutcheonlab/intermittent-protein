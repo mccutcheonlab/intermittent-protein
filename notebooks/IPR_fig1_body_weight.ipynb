{
 "cells": [
  {
   "cell_type": "code",
   "execution_count": 2,
   "metadata": {},
   "outputs": [],
   "source": [
    "from pathlib import Path\n",
    "import pandas as pd\n",
    "import trompy as tp\n",
    "import numpy as np\n",
    "import matplotlib.pyplot as plt\n",
    "import pandas as pd\n",
    "import scipy.stats as stats\n",
    "\n",
    "%matplotlib inline"
   ]
  },
  {
   "cell_type": "code",
   "execution_count": 3,
   "metadata": {},
   "outputs": [],
   "source": [
    "DATAFOLDER = Path(\"C:/Users/kvo019/OneDrive - UiT Office 365/Pipette 2/People/Linnea/Manuscripts/IPR paper/data_files\")\n",
    "FIGSFOLDER = Path(\"C:/Users/kvo019/OneDrive - UiT Office 365/Pipette 2/People/Linnea/Manuscripts/IPR paper/figures\")"
   ]
  },
  {
   "cell_type": "code",
   "execution_count": 4,
   "metadata": {},
   "outputs": [
    {
     "name": "stdout",
     "output_type": "stream",
     "text": [
      "       ID   sex group  week_0  week_1  week_2  week_3  week_4  week_5  week_6  \\\n",
      "0  MPX301  male    NR   26.97   27.83   28.03   28.40   28.60   29.70   30.47   \n",
      "1  MPX302  male    NR   24.03   25.12   25.40   26.85   28.50   29.63   30.67   \n",
      "2  MPX303  male   IPR   26.13   25.72   26.93   27.28   29.03   30.83   32.93   \n",
      "3  MPX304  male   IPR   24.43   24.73   25.60   26.28   27.17   28.73   30.57   \n",
      "4  MPX305  male    PR   26.40   25.78   25.37   26.48   27.00   27.33   27.90   \n",
      "\n",
      "   week_7  week_8  \n",
      "0   31.60   32.33  \n",
      "1   32.07   33.77  \n",
      "2   33.50   34.93  \n",
      "3   30.47   31.23  \n",
      "4   28.53   29.13  \n"
     ]
    }
   ],
   "source": [
    "df = pd.read_csv(DATAFOLDER / 'fig_1_body_weight.csv')"
   ]
  },
  {
   "cell_type": "code",
   "execution_count": 12,
   "metadata": {},
   "outputs": [],
   "source": [
    "# Melt the DataFrame to long format\n",
    "df_long = df.melt(id_vars=['ID', 'sex', 'group'], \n",
    "                  value_vars=['week_0', 'week_1', 'week_2', 'week_3', 'week_4', 'week_5', 'week_6', 'week_7', 'week_8'],\n",
    "                  var_name='week', \n",
    "                  value_name='body_weight')\n",
    "\n",
    "# Convert 'week' to a numeric value for easier plotting\n",
    "df_long['week'] = df_long['week'].str.extract('(\\d+)').astype(int)\n",
    "\n",
    "df_stats = df_long.groupby(['sex', 'group', 'week']).agg(\n",
    "    mean_body_weight=('body_weight', 'mean'),\n",
    "    sem_body_weight=('body_weight', lambda x: np.std(x, ddof=1) / np.sqrt(len(x)))\n",
    ").reset_index()\n",
    "\n",
    "#filter by sex\n",
    "df_male_stats = df_stats[df_mean['sex'] == 'male']\n",
    "df_female_stats = df_stats[df_mean['sex'] == 'female']"
   ]
  },
  {
   "cell_type": "code",
   "execution_count": 38,
   "metadata": {},
   "outputs": [
    {
     "data": {
      "image/png": "[encoded data removed]",
      "text/plain": [
       "<Figure size 432x216 with 2 Axes>"
      ]
     },
     "metadata": {
      "needs_background": "light"
     },
     "output_type": "display_data"
    }
   ],
   "source": [
    "colors = {'NR': \"#FF7F0E\",\n",
    "          'PR': \"#9467BD\",\n",
    "          'IPR': \"#17BECF\"}\n",
    "\n",
    "markers = {'NR': \"o\",\n",
    "          'PR': \"D\",\n",
    "          'IPR': \"v\"}\n",
    "\n",
    "\n",
    "f,ax=plt.subplots(figsize=(6, 3),ncols=2, sharey=True, gridspec_kw={\"bottom\": 0.2})\n",
    "\n",
    "for group in df_male_stats['group'].unique():\n",
    "    subset = df_male_stats[df_male_stats['group'] == group]\n",
    "    ax[0].errorbar(subset['week'], subset['mean_body_weight'], yerr=subset['sem_body_weight'],\n",
    "                 label=group, color=colors[group], marker=markers[group])\n",
    "\n",
    "for group in df_female_stats['group'].unique():\n",
    "    subset = df_female_stats[df_female_stats['group'] == group]\n",
    "    ax[1].errorbar(subset['week'], subset['mean_body_weight'], yerr=subset['sem_body_weight'],\n",
    "                 label=group, color=colors[group], marker=markers[group])\n",
    "    \n",
    "\n",
    "#grey for weeks when IPR is on NR diet    \n",
    "x_ranges = [(-0.5, 0.5), (1.5, 2.5), (3.5, 4.5), (5.5, 6.5), (7.5, 8.5)]\n",
    "\n",
    "for subplot in ax:\n",
    "    for start, end in x_ranges:\n",
    "        subplot.axvspan(start, end, color='#ededed')\n",
    "\n",
    "        \n",
    "ax[0].set_ylim(19,36)\n",
    "\n",
    "ax[0].set_ylabel(\"body weight (g)\", fontsize = 12)\n",
    "\n",
    "for ax in [ax[0],ax[1]]:\n",
    "    ax.spines['top'].set_visible(False)\n",
    "    ax.spines['right'].set_visible(False)\n",
    "    ax.tick_params(axis='both', which='major', labelsize=12)\n",
    "    ax.set_xlabel('time (weeks)', fontsize = 12)\n",
    "    ax.set_xticks([0,1,2,3,4,5,6,7,8]) \n",
    "\n",
    "    \n",
    "f.savefig(FIGSFOLDER / \"BW_v02.pdf\")    \n"
   ]
  },
  {
   "cell_type": "code",
   "execution_count": null,
   "metadata": {},
   "outputs": [],
   "source": []
  },
  {
   "cell_type": "code",
   "execution_count": null,
   "metadata": {},
   "outputs": [],
   "source": []
  }
 ],
 "metadata": {
  "kernelspec": {
   "display_name": "Python 3",
   "language": "python",
   "name": "python3"
  },
  "language_info": {
   "codemirror_mode": {
    "name": "ipython",
    "version": 3
   },
   "file_extension": ".py",
   "mimetype": "text/x-python",
   "name": "python",
   "nbconvert_exporter": "python",
   "pygments_lexer": "ipython3",
   "version": "3.8.5"
  }
 },
 "nbformat": 4,
 "nbformat_minor": 4
}
