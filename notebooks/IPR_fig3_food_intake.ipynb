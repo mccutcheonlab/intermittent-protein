{
 "cells": [
  {
   "cell_type": "code",
   "execution_count": 1,
   "metadata": {},
   "outputs": [],
   "source": [
    "from pathlib import Path\n",
    "import pandas as pd\n",
    "import trompy as tp\n",
    "import numpy as np\n",
    "import matplotlib.pyplot as plt\n",
    "import pandas as pd\n",
    "import scipy.stats as stats\n",
    "\n",
    "%matplotlib inline"
   ]
  },
  {
   "cell_type": "code",
   "execution_count": 2,
   "metadata": {},
   "outputs": [],
   "source": [
    "DATAFOLDER = Path(\"C:/Users/kvo019/OneDrive - UiT Office 365/Pipette 2/People/Linnea/Manuscripts/IPR paper/data_files\")\n",
    "FIGSFOLDER = Path(\"C:/Users/kvo019/OneDrive - UiT Office 365/Pipette 2/People/Linnea/Manuscripts/IPR paper/figures\")"
   ]
  },
  {
   "cell_type": "code",
   "execution_count": 5,
   "metadata": {},
   "outputs": [
    {
     "name": "stdout",
     "output_type": "stream",
     "text": [
      "       ID   sex group  week_0  week_1  week_2  week_3  week_4  week_5  week_6  \\\n",
      "0  MPX303  male   IPR     2.1    2.85    3.20    3.35    3.63    3.10    3.60   \n",
      "1  MPX304  male   IPR     3.3    3.01    2.50    3.20    2.67    2.70    3.70   \n",
      "2  MPX309  male   IPR     3.0    2.91    3.10    3.07    3.30    3.40    3.55   \n",
      "3  MPX310  male   IPR     3.3    2.46    2.60    2.78    2.75    2.85    3.65   \n",
      "4  MPX315  male   IPR     3.5    2.95    2.95    2.98    2.87    2.70    3.75   \n",
      "\n",
      "   week_7  week_8  avg_weeks_IPR_on_PR_diet  avg_weeks_IPR_on_NR_diet  \n",
      "0    3.20    3.60                      3.12                      3.51  \n",
      "1    3.10    3.50                      3.00                      3.09  \n",
      "2    3.75    3.50                      3.28                      3.36  \n",
      "3    3.25    3.20                      2.83                      3.05  \n",
      "4    3.75    3.74                      3.09                      3.33  \n"
     ]
    }
   ],
   "source": [
    "df = pd.read_csv(DATAFOLDER / 'fig_3_food_intake.csv')\n",
    "print(df.head())"
   ]
  },
  {
   "cell_type": "code",
   "execution_count": 9,
   "metadata": {},
   "outputs": [],
   "source": [
    "# Melt the DataFrame to long format\n",
    "df_long = df.melt(id_vars=['ID', 'sex', 'group'], \n",
    "                  value_vars=['week_0', 'week_1', 'week_2', 'week_3', 'week_4', 'week_5', 'week_6', 'week_7', 'week_8'],\n",
    "                  var_name='week', \n",
    "                  value_name='food intake')\n",
    "\n",
    "# Convert 'week' to a numeric value for easier plotting\n",
    "df_long['week'] = df_long['week'].str.extract('(\\d+)').astype(int)\n",
    "\n",
    "# Calculate mean and SEM\n",
    "df_stats = df_long.groupby(['sex', 'group', 'week']).agg(\n",
    "    mean_food_intake=('food intake', 'mean'),\n",
    "    sem_food_intake=('food intake', lambda x: np.std(x, ddof=1) / np.sqrt(len(x)))\n",
    ").reset_index()\n",
    "\n",
    "# Filter by sex\n",
    "df_male_stats = df_stats[df_stats['sex'] == 'male']\n",
    "df_female_stats = df_stats[df_stats['sex'] == 'female']\n"
   ]
  },
  {
   "cell_type": "code",
   "execution_count": 16,
   "metadata": {},
   "outputs": [],
   "source": [
    "df_males = df[df['sex'] == 'male']\n",
    "df_females = df[df['sex'] == 'female']"
   ]
  },
  {
   "cell_type": "code",
   "execution_count": 17,
   "metadata": {},
   "outputs": [],
   "source": [
    "avg_weeks_IPR_on_PR_diet_males = df_males.groupby('group')['avg_weeks_IPR_on_PR_diet'].apply(list).to_dict()\n",
    "avg_weeks_IPR_on_NR_diet_males = df_males.groupby('group')['avg_weeks_IPR_on_NR_diet'].apply(list).to_dict()\n",
    "\n",
    "avg_weeks_IPR_on_PR_diet_females = df_females.groupby('group')['avg_weeks_IPR_on_PR_diet'].apply(list).to_dict()\n",
    "avg_weeks_IPR_on_NR_diet_females = df_females.groupby('group')['avg_weeks_IPR_on_NR_diet'].apply(list).to_dict()"
   ]
  },
  {
   "cell_type": "code",
   "execution_count": 26,
   "metadata": {},
   "outputs": [],
   "source": [
    "def create_barscatter(ax, data_baseline_values, data_end_values):\n",
    "    tp.barscatter(\n",
    "        [[data_baseline_values[\"NR\"], data_end_values[\"NR\"]], \n",
    "         [data_baseline_values[\"PR\"], data_end_values[\"PR\"]],\n",
    "         [data_baseline_values[\"IPR\"], data_end_values[\"IPR\"]]],\n",
    "        paired=True,\n",
    "        barfacecolor_option='individual',\n",
    "        barfacecolor=[color for group in group_labels for color in colors[group]],\n",
    "        scattersize=scattersize,\n",
    "        grouplabel=group_labels,\n",
    "        scatteralpha=0.6,\n",
    "        fontsize=12,\n",
    "        ax=ax)"
   ]
  },
  {
   "cell_type": "code",
   "execution_count": 21,
   "metadata": {},
   "outputs": [],
   "source": [
    "colors = {'NR': [\"#FF7F0E\", \"#ffb370\"],\n",
    "          'PR': [\"#9467BD\", \"#c4abdb\"],\n",
    "          'IPR': [\"#17BECF\", \"#90eaf3\"]}\n",
    "\n",
    "first_colors = {group: color_list[0] for group, color_list in colors.items()}\n",
    "\n",
    "markers = {'NR': \"o\",\n",
    "          'PR': \"D\",\n",
    "          'IPR': \"v\"}\n",
    "\n",
    "group_labels = [\"NR\", \"PR\", \"IPR\"]\n",
    "scattersize=50"
   ]
  },
  {
   "cell_type": "code",
   "execution_count": 22,
   "metadata": {},
   "outputs": [
    {
     "data": {
      "image/png": "[encoded data removed]",
      "text/plain": [
       "<Figure size 432x216 with 2 Axes>"
      ]
     },
     "metadata": {
      "needs_background": "light"
     },
     "output_type": "display_data"
    }
   ],
   "source": [
    "# FOOD INTAKE OVER TIME\n",
    "f,ax=plt.subplots(figsize=(6, 3),ncols=2, sharey=True, gridspec_kw={\"bottom\": 0.2})\n",
    "\n",
    "for group in df_male_stats['group'].unique():\n",
    "    subset = df_male_stats[df_male_stats['group'] == group]\n",
    "    ax[0].errorbar(subset['week'], subset['mean_food_intake'], yerr=subset['sem_food_intake'],\n",
    "                 label=group, color=first_colors[group], marker=markers[group])\n",
    "\n",
    "for group in df_female_stats['group'].unique():\n",
    "    subset = df_female_stats[df_female_stats['group'] == group]\n",
    "    ax[1].errorbar(subset['week'], subset['mean_food_intake'], yerr=subset['sem_food_intake'],\n",
    "                 label=group, color=first_colors[group], marker=markers[group])\n",
    "    \n",
    "\n",
    "#grey for weeks when IPR is on NR diet    \n",
    "x_ranges = [(-0.5, 0.5), (1.5, 2.5), (3.5, 4.5), (5.5, 6.5), (7.5, 8.5)]\n",
    "\n",
    "for subplot in ax:\n",
    "    for start, end in x_ranges:\n",
    "        subplot.axvspan(start, end, color='#ededed')\n",
    "\n",
    "        \n",
    "ax[0].set_ylim(0,4)\n",
    "\n",
    "ax[0].set_ylabel(\"food intake (g)\", fontsize = 12)\n",
    "\n",
    "for ax in [ax[0],ax[1]]:\n",
    "    ax.spines['top'].set_visible(False)\n",
    "    ax.spines['right'].set_visible(False)\n",
    "    ax.tick_params(axis='both', which='major', labelsize=12)\n",
    "    ax.set_xlabel('time (weeks)', fontsize = 12)\n",
    "    ax.set_xticks([0,1,2,3,4,5,6,7,8]) \n",
    "\n",
    "    \n",
    "f.savefig(FIGSFOLDER / \"food_intake.pdf\")    "
   ]
  },
  {
   "cell_type": "code",
   "execution_count": 29,
   "metadata": {},
   "outputs": [
    {
     "data": {
      "image/png": "[encoded data removed]",
      "text/plain": [
       "<Figure size 432x216 with 2 Axes>"
      ]
     },
     "metadata": {
      "needs_background": "light"
     },
     "output_type": "display_data"
    }
   ],
   "source": [
    "# FOOD INTAKE TYPE OF WEEK\n",
    "\n",
    "f,ax=plt.subplots(figsize=(6, 3),ncols=2, sharey=True)\n",
    "\n",
    "create_barscatter(ax[0], avg_weeks_IPR_on_NR_diet_males, avg_weeks_IPR_on_PR_diet_males)\n",
    "create_barscatter(ax[1], avg_weeks_IPR_on_NR_diet_females, avg_weeks_IPR_on_PR_diet_females)\n",
    "\n",
    "\n",
    "ax[0].set_ylabel(\"food intake (g)\", fontsize = 12)\n",
    "for ax in [ax[0],ax[1]]:\n",
    "    ax.tick_params(axis='both', which='major', labelsize=12)\n",
    "\n",
    "f.savefig(FIGSFOLDER / \"food_intake_week_type.pdf\")    "
   ]
  },
  {
   "cell_type": "code",
   "execution_count": null,
   "metadata": {},
   "outputs": [],
   "source": []
  }
 ],
 "metadata": {
  "kernelspec": {
   "display_name": "Python 3",
   "language": "python",
   "name": "python3"
  },
  "language_info": {
   "codemirror_mode": {
    "name": "ipython",
    "version": 3
   },
   "file_extension": ".py",
   "mimetype": "text/x-python",
   "name": "python",
   "nbconvert_exporter": "python",
   "pygments_lexer": "ipython3",
   "version": "3.8.5"
  }
 },
 "nbformat": 4,
 "nbformat_minor": 4
}
